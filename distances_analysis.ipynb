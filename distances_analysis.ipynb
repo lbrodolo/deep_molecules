{
 "cells": [
  {
   "cell_type": "code",
   "execution_count": 2,
   "metadata": {},
   "outputs": [],
   "source": [
    "import numpy as np\n",
    "import math as m\n",
    "import os\n",
    "import matplotlib.pyplot as plt"
   ]
  },
  {
   "cell_type": "code",
   "execution_count": 5,
   "metadata": {},
   "outputs": [],
   "source": [
    "def get_data(file_name):\n",
    "    fin = open(file_name)\n",
    "    first = fin.readline().split()\n",
    "    no_atoms = int(first[0])\n",
    "    frame = np.zeros((no_atoms, 4))\n",
    "    info = fin.readline().split()\n",
    "    internal_energy_0K = float(info[12])\n",
    "    id_number = int(info[1])\n",
    "    temp_dict = []\n",
    "    ind_energy = 0.0\n",
    "\n",
    "    for i in range(no_atoms):\n",
    "        temp_dict = []\n",
    "        temp_dict = fin.readline().split()\n",
    "        # Here we check the atomic species and assign the atomic number.\n",
    "        if temp_dict[0] == \"H\":\n",
    "            frame[i, 0] = 1\n",
    "            ind_energy += -0.5\n",
    "        elif temp_dict[0] == \"C\":\n",
    "            frame[i, 0] = 6\n",
    "            ind_energy += -37.8450\n",
    "        elif temp_dict[0] == \"N\":\n",
    "            frame[i, 0] = 7\n",
    "            ind_energy += -54.5892\n",
    "        elif temp_dict[0] == \"O\":\n",
    "            frame[i, 0] = 8\n",
    "            ind_energy += -75.0673\n",
    "        elif temp_dict[0] == \"F\":\n",
    "            frame[i, 0] = 9\n",
    "            ind_energy += -99.7339\n",
    "\n",
    "        frame[i, 1] = np.single(temp_dict[1])  # Insert x coordinate\n",
    "        frame[i, 2] = np.single(temp_dict[2])  # Insert y coordinate\n",
    "        frame[i, 3] = np.single(temp_dict[3])  # Insert z coordinate\n",
    "        diff_energy = internal_energy_0K - ind_energy\n",
    "\n",
    "    return no_atoms, internal_energy_0K, frame, id_number, ind_energy, diff_energy\n"
   ]
  },
  {
   "cell_type": "code",
   "execution_count": 3,
   "metadata": {},
   "outputs": [
    {
     "ename": "NameError",
     "evalue": "name 'get_data' is not defined",
     "output_type": "error",
     "traceback": [
      "\u001b[0;31m---------------------------------------------------------------------------\u001b[0m",
      "\u001b[0;31mNameError\u001b[0m                                 Traceback (most recent call last)",
      "\u001b[1;32m/home/gscriva/deep_molecules/distances_analysis.ipynb Cell 3'\u001b[0m in \u001b[0;36m<module>\u001b[0;34m\u001b[0m\n\u001b[1;32m      <a href='vscode-notebook-cell://ssh-remote%2Bworkgpu/home/gscriva/deep_molecules/distances_analysis.ipynb#ch0000002vscode-remote?line=6'>7</a>\u001b[0m distances_z_train \u001b[39m=\u001b[39m []\n\u001b[1;32m      <a href='vscode-notebook-cell://ssh-remote%2Bworkgpu/home/gscriva/deep_molecules/distances_analysis.ipynb#ch0000002vscode-remote?line=7'>8</a>\u001b[0m \u001b[39mfor\u001b[39;00m mol \u001b[39min\u001b[39;00m train_list:\n\u001b[0;32m----> <a href='vscode-notebook-cell://ssh-remote%2Bworkgpu/home/gscriva/deep_molecules/distances_analysis.ipynb#ch0000002vscode-remote?line=8'>9</a>\u001b[0m     mol \u001b[39m=\u001b[39m get_data(\u001b[39mf\u001b[39m\u001b[39m\"\u001b[39m\u001b[39m/home/lbrodoloni/data/train/\u001b[39m\u001b[39m{\u001b[39;00mmol\u001b[39m}\u001b[39;00m\u001b[39m\"\u001b[39m)\n\u001b[1;32m     <a href='vscode-notebook-cell://ssh-remote%2Bworkgpu/home/gscriva/deep_molecules/distances_analysis.ipynb#ch0000002vscode-remote?line=9'>10</a>\u001b[0m     coord \u001b[39m=\u001b[39m mol[\u001b[39m2\u001b[39m][\u001b[39m.\u001b[39m\u001b[39m.\u001b[39m\u001b[39m.\u001b[39m, \u001b[39m1\u001b[39m:]\n\u001b[1;32m     <a href='vscode-notebook-cell://ssh-remote%2Bworkgpu/home/gscriva/deep_molecules/distances_analysis.ipynb#ch0000002vscode-remote?line=10'>11</a>\u001b[0m     no_atoms \u001b[39m=\u001b[39m mol[\u001b[39m0\u001b[39m]\n",
      "\u001b[0;31mNameError\u001b[0m: name 'get_data' is not defined"
     ]
    }
   ],
   "source": [
    "\n",
    "\n",
    "# print(m.hypot(coord[0][0], coord[1][0])) # è la stessa cosa di sqrt(x1^2 + x2^2), distanza tra le x dei primi due atomi\n",
    "train_list = os.listdir(\"/home/lbrodoloni/data/train\")\n",
    "test_list = os.listdir(\"/home/lbrodoloni/data/test\")\n",
    "# Calcolo la distanza tra le coppie di atomi\n",
    "distances_x_train = []\n",
    "distances_y_train = []\n",
    "distances_z_train = []\n",
    "for mol in train_list:\n",
    "    mol = get_data(f\"/home/lbrodoloni/data/train/{mol}\")\n",
    "    coord = mol[2][..., 1:]\n",
    "    no_atoms = mol[0]\n",
    "    for i in range(no_atoms - 1):\n",
    "        for j in range(i + 1, no_atoms):\n",
    "            distances_x_train.append(m.hypot(coord[i][0] - coord[j][0]))\n",
    "            distances_y_train.append(m.hypot(coord[i][1] - coord[j][1]))\n",
    "            distances_z_train.append(m.hypot(coord[i][2] - coord[j][2]))\n",
    "print(m.factorial(no_atoms)/(2*m.factorial(no_atoms - 2))) # numero di combinazioni per calcolare le distanze\n"
   ]
  },
  {
   "cell_type": "code",
   "execution_count": 5,
   "metadata": {},
   "outputs": [
    {
     "name": "stdout",
     "output_type": "stream",
     "text": [
      "1.5356445029065697\n",
      "1.869154079645187\n",
      "1.436618867254142\n"
     ]
    }
   ],
   "source": [
    "print(np.mean(distances_x_train))\n",
    "print(np.mean(distances_y_train))\n",
    "print(np.mean(distances_z_train))"
   ]
  },
  {
   "cell_type": "code",
   "execution_count": 9,
   "metadata": {},
   "outputs": [],
   "source": [
    "# Distanza media tra atomi nel train set\n",
    "atomic_distances_train = []\n",
    "for mol in train_list:\n",
    "    for i in range(no_atoms - 1):\n",
    "        for j in range(i + 1, no_atoms):\n",
    "            atomic_distances_train.append(m.hypot(coord[i][0] - coord[j][0], coord[i][1] - coord[j][1], coord[i][2] - coord[j][2]))\n"
   ]
  },
  {
   "cell_type": "code",
   "execution_count": 10,
   "metadata": {},
   "outputs": [
    {
     "data": {
      "text/plain": [
       "3.400320893055322"
      ]
     },
     "execution_count": 10,
     "metadata": {},
     "output_type": "execute_result"
    }
   ],
   "source": [
    "np.mean(atomic_distances_train)"
   ]
  },
  {
   "cell_type": "code",
   "execution_count": 11,
   "metadata": {},
   "outputs": [],
   "source": [
    "# Distanza merdia tra atomi nel test set\n",
    "distances_x_test = []\n",
    "distances_y_test = []\n",
    "distances_z_test = []\n",
    "\n",
    "for mol in test_list:\n",
    "    mol = get_data(f\"/home/lbrodoloni/data/train/{mol}\")\n",
    "    coord = mol[2][..., 1:]\n",
    "    no_atoms = mol[0]\n",
    "    for i in range(no_atoms - 1):\n",
    "        for j in range(i + 1, no_atoms):\n",
    "            distances_x_test.append(m.hypot(coord[i][0] - coord[j][0]))\n",
    "            distances_y_test.append(m.hypot(coord[i][1] - coord[j][1]))\n",
    "            distances_z_test.append(m.hypot(coord[i][2] - coord[j][2]))"
   ]
  },
  {
   "cell_type": "code",
   "execution_count": 12,
   "metadata": {},
   "outputs": [
    {
     "name": "stdout",
     "output_type": "stream",
     "text": [
      "1.534363435039279\n",
      "1.866807559970509\n",
      "1.443005354683782\n"
     ]
    }
   ],
   "source": [
    "print(np.mean(distances_x_test))\n",
    "print(np.mean(distances_y_test))\n",
    "print(np.mean(distances_z_test)) "
   ]
  },
  {
   "cell_type": "code",
   "execution_count": 13,
   "metadata": {},
   "outputs": [],
   "source": [
    "# Distanza media tra atomi nel test set\n",
    "atomic_distances_test = []\n",
    "for i in range(no_atoms - 1):\n",
    "    for j in range(i + 1, no_atoms):\n",
    "        atomic_distances_test.append(m.hypot(coord[i][0] - coord[j][0], coord[i][1] - coord[j][1], coord[i][2] - coord[j][2]))\n"
   ]
  },
  {
   "cell_type": "code",
   "execution_count": 14,
   "metadata": {},
   "outputs": [
    {
     "name": "stdout",
     "output_type": "stream",
     "text": [
      "Distanza media tra atomi nel test set: 3.206775208587156\n",
      "Media delle distanze medie tra atomi nel train e nel test set: 3.303548050821239\n"
     ]
    }
   ],
   "source": [
    "print(f\"Distanza media tra atomi nel test set: {np.mean(atomic_distances_test)}\")\n",
    "print(f\"Media delle distanze medie tra atomi nel train e nel test set: {(np.mean(atomic_distances_test) + np.mean(atomic_distances_train))/2}\")"
   ]
  },
  {
   "cell_type": "markdown",
   "metadata": {},
   "source": [
    "### Massima distanza dal centro di ogni molecola per coordinata"
   ]
  },
  {
   "cell_type": "code",
   "execution_count": 33,
   "metadata": {},
   "outputs": [],
   "source": [
    "sum_all_x = []\n",
    "sum_all_y = []\n",
    "sum_all_z = []\n",
    "\n",
    "for k, mol in enumerate(train_list):\n",
    "    mol = get_data(f\"/home/lbrodoloni/data/train/{mol}\")\n",
    "    coord = mol[2][..., 1:]\n",
    "    no_atoms = mol[0]\n",
    "\n",
    "    sum_x = coord[0][0]\n",
    "    sum_y = coord[0][1]\n",
    "    sum_z = coord[0][2]\n",
    "    for i in range(1, no_atoms):\n",
    "        sum_x += coord[i][0]\n",
    "        sum_y += coord[i][1]\n",
    "        sum_z += coord[i][2]\n",
    "\n",
    "    sum_all_x.append(sum_x)\n",
    "    sum_all_y.append(sum_y)\n",
    "    sum_all_z.append(sum_z)"
   ]
  },
  {
   "cell_type": "code",
   "execution_count": 36,
   "metadata": {},
   "outputs": [],
   "source": [
    "offset_x = []\n",
    "offset_y = []\n",
    "offset_z = []\n",
    "\n",
    "for k, mol in enumerate(train_list):\n",
    "    mol = get_data(f\"/home/lbrodoloni/data/train/{mol}\")\n",
    "    coord = mol[2][..., 1:]\n",
    "    no_atoms = mol[0]\n",
    "\n",
    "    min_x = coord[0][0]\n",
    "    min_y = coord[0][1]\n",
    "    min_z = coord[0][2]\n",
    "    max_x = coord[0][0]\n",
    "    max_y = coord[0][1]\n",
    "    max_z = coord[0][2]\n",
    "    for i in range(1, no_atoms):\n",
    "        min_x = min(coord[i][0], min_x)\n",
    "        min_y = min(coord[i][1], min_y)\n",
    "        min_z = min(coord[i][2], min_z)\n",
    "        max_x = max(coord[i][0], max_x)\n",
    "        max_y = max(coord[i][1], max_y)\n",
    "        max_z = max(coord[i][2], max_z)\n",
    "\n",
    "    offset_x.append((abs(max_x) - abs(min_x))/2)\n",
    "    offset_y.append((abs(max_y) - abs(min_y))/2)\n",
    "    offset_z.append((abs(max_z) - abs(min_z))/2)"
   ]
  },
  {
   "cell_type": "code",
   "execution_count": 37,
   "metadata": {},
   "outputs": [
    {
     "name": "stdout",
     "output_type": "stream",
     "text": [
      "Offset x: 0.1096408161630223 y: -0.32192150645570944 z: 0.07126263251852508\n"
     ]
    }
   ],
   "source": [
    "print(f\"Offset x: {np.mean(offset_x)} y: {np.mean(offset_y)} z: {np.mean(offset_z)}\")"
   ]
  },
  {
   "cell_type": "code",
   "execution_count": 38,
   "metadata": {},
   "outputs": [],
   "source": [
    "minimum_x = []\n",
    "minimum_y = []\n",
    "minimum_z = []\n",
    "\n",
    "for k, mol in enumerate(train_list):\n",
    "    mol = get_data(f\"/home/lbrodoloni/data/train/{mol}\")\n",
    "    coord = mol[2][..., 1:]\n",
    "    no_atoms = mol[0]\n",
    "    min_x = coord[0][0]\n",
    "    min_y = coord[0][1]\n",
    "    min_z = coord[0][2]\n",
    "\n",
    "    for i in range(1, no_atoms):\n",
    "        min_x = min(min_x, coord[i][0])\n",
    "        min_y = min(min_y, coord[i][1])\n",
    "        min_z = min(min_z, coord[i][2])\n",
    "\n",
    "    minimum_x.append(min_x)\n",
    "    minimum_y.append(min_y)\n",
    "    minimum_z.append(min_z)"
   ]
  },
  {
   "cell_type": "code",
   "execution_count": 39,
   "metadata": {},
   "outputs": [],
   "source": [
    "distance_zero_x = []\n",
    "distance_zero_y = []\n",
    "distance_zero_z = []\n",
    "\n",
    "for k, mol in enumerate(train_list):\n",
    "    mol = get_data(f\"/home/lbrodoloni/data/train/{mol}\")\n",
    "    coord = mol[2][..., 1:]\n",
    "    no_atoms = mol[0]\n",
    "    max_x = abs(coord[0][0] - minimum_x[k])\n",
    "    max_y = abs(coord[0][1]- minimum_y[k])\n",
    "    max_z = abs(coord[0][2]- minimum_z[k])\n",
    "\n",
    "    for i in range(1, no_atoms):\n",
    "        max_x = max(max_x, abs(coord[i][0] - minimum_x[k]))\n",
    "        max_y = max(max_y, abs(coord[i][1] - minimum_y[k]))\n",
    "        max_z = max(max_z, abs(coord[i][2] - minimum_z[k]))\n",
    "\n",
    "    distance_zero_x.append(max_x)\n",
    "    distance_zero_y.append(max_y)\n",
    "    distance_zero_z.append(max_z)"
   ]
  },
  {
   "cell_type": "code",
   "execution_count": 40,
   "metadata": {},
   "outputs": [
    {
     "name": "stdout",
     "output_type": "stream",
     "text": [
      "Media in valore assoluto distanza centro x: 4.490298482726743 y: 5.273272171711888 z: 4.1960785914582255\n",
      "Massimo in valore assoluto distanza centro x: 10.318280100822449 y: 11.827099919319153 z: 9.986393451690674\n",
      "Percentile (0.05) in valore assoluto distanza centro x: 2.7699988007545473 y: 3.6477432489395145 z: 1.766052433848381\n",
      "Percentile (0.95) in valore assoluto distanza centro x: 6.272529894113537 y: 7.236610072851179 z: 6.116414403915402\n",
      "Mediana valore assoluto distanza centro x: 4.451200485229492 y: 5.158000588417053 z: 4.267110213637352\n"
     ]
    }
   ],
   "source": [
    "print(f\"Media in valore assoluto distanza centro x: {np.mean(distance_zero_x)} y: {np.mean(distance_zero_y)} z: {np.mean(distance_zero_z)}\")\n",
    "print(f\"Massimo in valore assoluto distanza centro x: {np.max(distance_zero_x)} y: {np.max(distance_zero_y)} z: {np.max(distance_zero_z)}\")\n",
    "print(f\"Percentile (0.05) in valore assoluto distanza centro x: {np.percentile(distance_zero_x, 5)} y: {np.percentile(distance_zero_y, 5)} z: {np.percentile(distance_zero_z, 5)}\")\n",
    "print(f\"Percentile (0.95) in valore assoluto distanza centro x: {np.percentile(distance_zero_x, 95)} y: {np.percentile(distance_zero_y, 95)} z: {np.percentile(distance_zero_z, 95)}\")\n",
    "print(f\"Mediana valore assoluto distanza centro x: {np.median(distance_zero_x)} y: {np.median(distance_zero_y)} z: {np.median(distance_zero_z)}\")"
   ]
  },
  {
   "cell_type": "code",
   "execution_count": 41,
   "metadata": {},
   "outputs": [],
   "source": [
    "distance_x = []\n",
    "distance_y = []\n",
    "distance_z = []\n",
    "\n",
    "for k, mol in enumerate(train_list):\n",
    "    mol = get_data(f\"/home/lbrodoloni/data/train/{mol}\")\n",
    "    coord = mol[2][..., 1:]\n",
    "    no_atoms = mol[0]\n",
    "    max_x = abs(coord[0][0] - offset_x[k])\n",
    "    max_y = abs(coord[0][1] - offset_y[k])\n",
    "    max_z = abs(coord[0][2] - offset_z[k])\n",
    "    #print(coord[0][0], offset_x[k], abs(coord[0][0] + offset_x[k]))\n",
    "\n",
    "    for i in range(1, no_atoms):\n",
    "        max_x = max(max_x, abs(coord[i][0] - offset_x[k]))\n",
    "        max_y = max(max_y, abs(coord[i][1] - offset_y[k]))\n",
    "        max_z = max(max_z, abs(coord[i][2] - offset_z[k]))\n",
    "\n",
    "        #print(coord[i][0], offset_x[k], abs(coord[i][0] - offset_x[k]))\n",
    "\n",
    "    distance_x.append(max_x)\n",
    "    distance_y.append(max_y)\n",
    "    distance_z.append(max_z)"
   ]
  },
  {
   "cell_type": "code",
   "execution_count": 44,
   "metadata": {},
   "outputs": [
    {
     "name": "stdout",
     "output_type": "stream",
     "text": [
      "Media in valore assoluto distanza centro x: 2.245837204336033 y: 2.6456927294880646 z: 2.098357681011513\n",
      "Massimo in valore assoluto distanza centro x: 5.373010873794556 y: 5.913549959659576 z: 5.499987542629242\n",
      "Percentile (0.05) in valore assoluto distanza centro x: 1.3849994003772736 y: 1.8290826350450518 z: 0.8830456212162971\n",
      "Percentile (0.95) in valore assoluto distanza centro x: 3.6137738311290724 y: 4.162132108211516 z: 3.587125092744822\n",
      "Mediana valore assoluto distanza centro x: 2.226313501596451 y: 2.593801498413086 z: 2.1337789744138718\n"
     ]
    }
   ],
   "source": [
    "print(f\"Media in valore assoluto distanza centro x: {np.mean(distance_x)} y: {np.mean(distance_y)} z: {np.mean(distance_z)}\")\n",
    "print(f\"Massimo in valore assoluto distanza centro x: {np.max(distance_x)} y: {np.max(distance_y)} z: {np.max(distance_z)}\")\n",
    "print(f\"Percentile (0.05) in valore assoluto distanza centro x: {np.percentile(distance_x, 5)} y: {np.percentile(distance_y, 5)} z: {np.percentile(distance_z, 5)}\")\n",
    "print(f\"Percentile (0.95) in valore assoluto distanza centro x: {np.percentile(distance_x, 99)} y: {np.percentile(distance_y, 99)} z: {np.percentile(distance_z, 99)}\")\n",
    "print(f\"Mediana valore assoluto distanza centro x: {np.median(distance_x)} y: {np.median(distance_y)} z: {np.median(distance_z)}\")"
   ]
  },
  {
   "cell_type": "code",
   "execution_count": 43,
   "metadata": {},
   "outputs": [
    {
     "name": "stdout",
     "output_type": "stream",
     "text": [
      "Media somma x: 1.7015421397646215 y: -6.025088956418165 z: 1.1407077749077053\n",
      "Mediana somma x: 3.6858095712959766 y: -9.45865890942514 z: 0.5863866023719311\n"
     ]
    }
   ],
   "source": [
    "print(f\"Media somma x: {np.mean(sum_all_x)} y: {np.mean(sum_all_y)} z: {np.mean(sum_all_z)}\")\n",
    "print(f\"Mediana somma x: {np.median(sum_all_x)} y: {np.median(sum_all_y)} z: {np.median(sum_all_z)}\")"
   ]
  },
  {
   "cell_type": "code",
   "execution_count": 15,
   "metadata": {},
   "outputs": [
    {
     "name": "stdout",
     "output_type": "stream",
     "text": [
      "110680\n",
      "Media delle minime distanze tra atomi nel train set: 2.8563870074515947\n",
      "Minima distanza minimale tra atomi nel train set: 1.0215578729234926\n"
     ]
    }
   ],
   "source": [
    "# calcolo la media delle distanze minime tra atomi in ogni molecola\n",
    "min_distances_train = []\n",
    "mol = get_data(f\"/Users/lucabrodoloni/Desktop/Stage/Vettore_download/dati_puliti/train/{train_list[0]}\")\n",
    "coord = mol[2][..., 1:]\n",
    "no_atoms = mol[0]\n",
    "for mol in train_list:\n",
    "    mol = get_data(f\"/Users/lucabrodoloni/Desktop/Stage/Vettore_download/dati_puliti/train/{mol}\")\n",
    "    coord = mol[2][..., 1:]\n",
    "    no_atoms = mol[0]\n",
    "    for i in range(no_atoms - 1):\n",
    "        for j in range(i + 1, no_atoms):\n",
    "            atomic_distances_in_molecule = []\n",
    "            atomic_distances_in_molecule.append(m.hypot(coord[i][0] - coord[j][0], coord[i][1] - coord[j][1], coord[i][2] - coord[j][2]))\n",
    "    min_distances_train.append(min(atomic_distances_in_molecule))\n",
    "print(len(min_distances_train))\n",
    "print(f\"Media delle minime distanze tra atomi nel train set: {np.mean(min_distances_train)}\")\n",
    "print(f\"Minima distanza minimale tra atomi nel train set: {min(min_distances_train)}\")"
   ]
  },
  {
   "cell_type": "code",
   "execution_count": 17,
   "metadata": {},
   "outputs": [
    {
     "data": {
      "image/png": "[encoded data removed]",
      "text/plain": [
       "<Figure size 600x400 with 1 Axes>"
      ]
     },
     "metadata": {
      "needs_background": "light"
     },
     "output_type": "display_data"
    }
   ],
   "source": [
    "# istogramma delle distanze tra atomi\n",
    "plt.rcParams['figure.dpi'] = 100\n",
    "plt.rcParams['text.usetex'] = True\n",
    "plt.hist(atomic_distances_train, bins=10)\n",
    "plt.title(\"Istogramma delle distanze tra atomi nel train set\")\n",
    "plt.show()"
   ]
  },
  {
   "cell_type": "code",
   "execution_count": null,
   "metadata": {},
   "outputs": [],
   "source": []
  }
 ],
 "metadata": {
  "interpreter": {
   "hash": "8cbc8d580d591dfc917f0e87ab0faf18e1041163db310c569e0411a126a3465f"
  },
  "kernelspec": {
   "display_name": "Python 3.8.12 ('mlluca')",
   "language": "python",
   "name": "python3"
  },
  "language_info": {
   "codemirror_mode": {
    "name": "ipython",
    "version": 3
   },
   "file_extension": ".py",
   "mimetype": "text/x-python",
   "name": "python",
   "nbconvert_exporter": "python",
   "pygments_lexer": "ipython3",
   "version": "3.8.12"
  },
  "orig_nbformat": 4
 },
 "nbformat": 4,
 "nbformat_minor": 2
}
