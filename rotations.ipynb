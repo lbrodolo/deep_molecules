{
 "cells": [
  {
   "cell_type": "code",
   "execution_count": 9,
   "metadata": {},
   "outputs": [
    {
     "data": {
      "text/plain": [
       "array([[1, 0, 0],\n",
       "       [0, 0, 0],\n",
       "       [0, 0, 0]])"
      ]
     },
     "execution_count": 9,
     "metadata": {},
     "output_type": "execute_result"
    }
   ],
   "source": [
    "from rotation import Rotation\n",
    "import numpy as np\n",
    "\n",
    "x = np.asarray([[1, 0, 0], [0, 0, 0], [0, 0, 0]])\n",
    "x\n"
   ]
  },
  {
   "cell_type": "code",
   "execution_count": 15,
   "metadata": {},
   "outputs": [
    {
     "data": {
      "text/plain": [
       "matrix([[ 1.        ,  0.        ,  0.        ],\n",
       "        [ 0.        , -0.70710678, -0.70710678],\n",
       "        [ 0.        ,  0.70710678, -0.70710678]])"
      ]
     },
     "execution_count": 15,
     "metadata": {},
     "output_type": "execute_result"
    }
   ],
   "source": [
    "rotated_x = Rotation(alpha= 3/4 * np.pi, beta=0, gamma=0)\n",
    "rotated_x"
   ]
  },
  {
   "cell_type": "code",
   "execution_count": 34,
   "metadata": {},
   "outputs": [
    {
     "data": {
      "text/plain": [
       "array([[0.70807124, 0.61083703, 0.35427846],\n",
       "       [0.        , 0.        , 0.        ],\n",
       "       [0.        , 0.        , 0.        ]])"
      ]
     },
     "execution_count": 34,
     "metadata": {},
     "output_type": "execute_result"
    }
   ],
   "source": [
    "from scipy.spatial.transform import Rotation as R \n",
    "rot = R.random(num=1, random_state=42)\n",
    "rotated_x = rot.apply(x)\n",
    "rotated_x"
   ]
  },
  {
   "cell_type": "code",
   "execution_count": 41,
   "metadata": {},
   "outputs": [
    {
     "name": "stdout",
     "output_type": "stream",
     "text": [
      "[[0.5018605  0.900802   0.03193335]\n",
      " [0.65462006 0.97916993 0.49654307]\n",
      " [0.69064408 0.23544798 0.21582991]]\n",
      "[[-0.27487882  0.78994424  0.60395171]\n",
      " [-0.18738232  0.66524717  1.07526289]\n",
      " [ 0.33964488  0.43138132  0.52683874]]\n",
      "1.0316627075584326\n",
      "1.0316627075584326\n"
     ]
    }
   ],
   "source": [
    "#np.sqrt(rotated_x[0, ...][0]**2 + rotated_x[0, ...][1]**2 + rotated_x[0, ...][2]**2)\n",
    "\n",
    "y = np.random.rand(3, 3)\n",
    "print(y)\n",
    "\n",
    "rotated_y = rot.apply(y)\n",
    "print(rotated_y)\n",
    "print(np.sqrt(rotated_y[0, ...][0]**2 + rotated_y[0, ...][1]**2 + rotated_y[0, ...][2]**2)) \n",
    "print(np.sqrt(y[0, ...][0]**2 + y[0, ...][1]**2 + y[0, ...][2]**2))"
   ]
  },
  {
   "cell_type": "code",
   "execution_count": null,
   "metadata": {},
   "outputs": [],
   "source": []
  }
 ],
 "metadata": {
  "interpreter": {
   "hash": "8cbc8d580d591dfc917f0e87ab0faf18e1041163db310c569e0411a126a3465f"
  },
  "kernelspec": {
   "display_name": "Python 3.8.12 ('mlluca')",
   "language": "python",
   "name": "python3"
  },
  "language_info": {
   "codemirror_mode": {
    "name": "ipython",
    "version": 3
   },
   "file_extension": ".py",
   "mimetype": "text/x-python",
   "name": "python",
   "nbconvert_exporter": "python",
   "pygments_lexer": "ipython3",
   "version": "3.8.12"
  },
  "orig_nbformat": 4
 },
 "nbformat": 4,
 "nbformat_minor": 2
}
