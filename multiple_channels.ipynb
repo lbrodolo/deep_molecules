{
 "cells": [
  {
   "cell_type": "markdown",
   "metadata": {},
   "source": [
    "# Multichannel Potentials\n"
   ]
  },
  {
   "cell_type": "code",
   "execution_count": 16,
   "metadata": {},
   "outputs": [],
   "source": [
    "from data_gen import get_data\n",
    "import numpy as np\n",
    "from numba import njit"
   ]
  },
  {
   "cell_type": "markdown",
   "metadata": {},
   "source": [
    "#### Load the molecule through the get_data function"
   ]
  },
  {
   "cell_type": "code",
   "execution_count": 40,
   "metadata": {},
   "outputs": [],
   "source": [
    "mol = get_data(\"/Users/lucabrodoloni/Desktop/Stage/Vettore_download/data/dsgdb9nsd_106437.xyz\")"
   ]
  },
  {
   "cell_type": "code",
   "execution_count": 47,
   "metadata": {},
   "outputs": [],
   "source": [
    "n_atoms = mol[0]\n",
    "difference_energy = mol[5]\n",
    "frame = mol[2]"
   ]
  },
  {
   "cell_type": "code",
   "execution_count": 67,
   "metadata": {},
   "outputs": [],
   "source": [
    "\n",
    "def multi_potential(\n",
    "    atomic_info: np.ndarray,\n",
    "    gamma: float = 0.36,\n",
    "    alpha: float = 6.0,\n",
    "    n_points: int = 32,\n",
    "    physic_length: float = 12.0\n",
    "):\n",
    "    V_pot = np.zeros((n_points, n_points, n_points))\n",
    "    grid_space = physic_length / n_points\n",
    "    n_atoms = atomic_info.shape[0]\n",
    "    offset = physic_length / 2\n",
    "    for i in range(n_points):\n",
    "        for j in range(n_points):\n",
    "            for k in range(n_points):\n",
    "                V_term_space = np.zeros(n_atoms)\n",
    "                for l in range(n_atoms):\n",
    "                    V_term_space[l] = alpha * np.exp(\n",
    "                        (-1.0 / (2 * (gamma) ** 2))\n",
    "                        * (\n",
    "                            (((i * grid_space) - offset + offset_x) - atomic_info[l, 0]) ** 2\n",
    "                            + (((j * grid_space) - offset + offset_y) - atomic_info[l, 1]) ** 2\n",
    "                            + (((k * grid_space) - offset + offset_z) - atomic_info[l, 2]) ** 2\n",
    "                        )\n",
    "                    )\n",
    "                # sum the terms in the function and make it single precision.\n",
    "                V_pot[i, j, k] = np.single(np.sum(V_term_space))\n",
    "    return V_pot"
   ]
  },
  {
   "cell_type": "markdown",
   "metadata": {},
   "source": [
    "#### Compute the global x, y, z offsets for each molecule"
   ]
  },
  {
   "cell_type": "code",
   "execution_count": 68,
   "metadata": {},
   "outputs": [
    {
     "name": "stdout",
     "output_type": "stream",
     "text": [
      "0.394933819770813 -1.1921765804290771 1.2904892265796661\n",
      "[[ 6.         -0.05013775  1.34459448  0.01464414]\n",
      " [ 8.          0.01573426 -0.06770165  0.09227195]\n",
      " [ 6.          0.68811589 -0.5427258   1.18952596]\n",
      " [ 6.          2.20329237 -0.39400503  1.55221486]\n",
      " [ 6.          1.57768512 -1.31476092  2.63546371]\n",
      " [ 6.          0.37257096 -0.33488858  2.70889735]\n",
      " [ 6.          0.84100354 -2.07025623  1.47145867]\n",
      " [ 6.         -0.32675502 -2.87656641  1.75876796]\n",
      " [ 6.         -1.28264928 -3.57081938  1.98502874]\n",
      " [ 1.          0.95040828  1.79408598 -0.05411734]\n",
      " [ 1.         -0.61120862  1.58645272 -0.890109  ]\n",
      " [ 1.         -0.56907421  1.77342832  0.88297451]\n",
      " [ 1.          2.92054796 -0.85163099  0.86590821]\n",
      " [ 1.          2.53419471  0.58896935  1.89416087]\n",
      " [ 1.          2.0896287  -1.78451002  3.47108746]\n",
      " [ 1.          0.5856564   0.65227073  3.12583756]\n",
      " [ 1.         -0.57129508 -0.7416361   3.07358289]\n",
      " [ 1.          1.51188791 -2.58296466  0.77504134]\n",
      " [ 1.         -2.13068032 -4.17843914  2.18247771]]\n"
     ]
    }
   ],
   "source": [
    "offset_x = (abs(max(frame[:, 1])) - abs(min(frame[:, 1]))) / 2\n",
    "offset_y = (abs(max(frame[:, 2])) - abs(min(frame[:, 2]))) / 2\n",
    "offset_z = (abs(max(frame[:, 3])) - abs(min(frame[:, 3]))) / 2\n",
    "print(offset_x, offset_y, offset_z)\n",
    "print(frame)\n"
   ]
  },
  {
   "cell_type": "code",
   "execution_count": 80,
   "metadata": {},
   "outputs": [],
   "source": [
    "# potenziali multicanale\n",
    "# la forma del tensore è 5 x 32 x 32 x 32 dove 5 è il numero di canali (specie atomiche)\n",
    "multichannel_potential = np.zeros((5, 32, 32, 32))\n",
    "H_coord = []\n",
    "C_coord = []\n",
    "N_coord = []\n",
    "O_coord = []\n",
    "F_coord = []\n",
    "for i in range(0, len(frame)):\n",
    "    if frame[i][0] == 1.0:\n",
    "        H_coord.append(frame[i][1:4])\n",
    "    elif frame[i][0] == 6.0:\n",
    "        C_coord.append(frame[i][1:4])\n",
    "    elif frame[i][0] == 7.0:\n",
    "        N_coord.append(frame[i][1:4])\n",
    "    elif frame[i][0] == 8.0:\n",
    "        O_coord.append(frame[i][1:4])\n",
    "    elif frame[i][0] == 9.0:\n",
    "        F_coord.append(frame[i][1:4])\n",
    "if len(H_coord) != 0:\n",
    "       H_coord = np.array(H_coord).reshape(len(H_coord), 3)\n",
    "if len(C_coord) != 0:\n",
    "       C_coord = np.array(C_coord).reshape(len(C_coord), 3)\n",
    "if len(N_coord) != 0:\n",
    "       N_coord = np.array(N_coord).reshape(len(N_coord), 3)\n",
    "if len(O_coord) != 0:\n",
    "       O_coord = np.array(O_coord).reshape(len(O_coord), 3)\n",
    "if len(F_coord) != 0:\n",
    "       F_coord = np.array(F_coord).reshape(len(F_coord), 3)\n",
    "# print(f\"Hydrogen coordinates: \\n{len(H_coord)}\")\n",
    "# H_coord = np.array(H_coord).reshape(len(H_coord), 3)\n",
    "# print(H_coord)\n",
    "# print(f\"Carbon coordinates: \\n{C_coord}\")\n",
    "# print(f\"Nitrogen coordinates: \\n{N_coord}\")\n",
    "# print(f\"Oxigen coordinates: \\n{O_coord}\")\n",
    "# print(f\"Fluorine coordinates: \\n{F_coord}\")\n"
   ]
  },
  {
   "cell_type": "code",
   "execution_count": 89,
   "metadata": {},
   "outputs": [
    {
     "ename": "AttributeError",
     "evalue": "'list' object has no attribute 'shape'",
     "output_type": "error",
     "traceback": [
      "\u001b[0;31m---------------------------------------------------------------------------\u001b[0m",
      "\u001b[0;31mAttributeError\u001b[0m                            Traceback (most recent call last)",
      "\u001b[0;32m/var/folders/8f/5w_pg3910f187sm8xvv_9mzm0000gn/T/ipykernel_2842/4125081939.py\u001b[0m in \u001b[0;36m<module>\u001b[0;34m\u001b[0m\n\u001b[1;32m      6\u001b[0m \u001b[0mH_potential\u001b[0m \u001b[0;34m=\u001b[0m \u001b[0mmulti_potential\u001b[0m\u001b[0;34m(\u001b[0m\u001b[0matomic_info\u001b[0m\u001b[0;34m=\u001b[0m\u001b[0mH_coord\u001b[0m\u001b[0;34m)\u001b[0m\u001b[0;34m\u001b[0m\u001b[0;34m\u001b[0m\u001b[0m\n\u001b[1;32m      7\u001b[0m \u001b[0mC_potential\u001b[0m \u001b[0;34m=\u001b[0m \u001b[0mmulti_potential\u001b[0m\u001b[0;34m(\u001b[0m\u001b[0matomic_info\u001b[0m\u001b[0;34m=\u001b[0m\u001b[0mC_coord\u001b[0m\u001b[0;34m)\u001b[0m\u001b[0;34m\u001b[0m\u001b[0;34m\u001b[0m\u001b[0m\n\u001b[0;32m----> 8\u001b[0;31m \u001b[0mN_potential\u001b[0m \u001b[0;34m=\u001b[0m \u001b[0mmulti_potential\u001b[0m\u001b[0;34m(\u001b[0m\u001b[0matomic_info\u001b[0m\u001b[0;34m=\u001b[0m\u001b[0mN_coord\u001b[0m\u001b[0;34m)\u001b[0m\u001b[0;34m\u001b[0m\u001b[0;34m\u001b[0m\u001b[0m\n\u001b[0m\u001b[1;32m      9\u001b[0m \u001b[0mO_potential\u001b[0m \u001b[0;34m=\u001b[0m \u001b[0mmulti_potential\u001b[0m\u001b[0;34m(\u001b[0m\u001b[0matomic_info\u001b[0m\u001b[0;34m=\u001b[0m\u001b[0mO_coord\u001b[0m\u001b[0;34m)\u001b[0m\u001b[0;34m\u001b[0m\u001b[0;34m\u001b[0m\u001b[0m\n\u001b[1;32m     10\u001b[0m \u001b[0mF_potential\u001b[0m \u001b[0;34m=\u001b[0m \u001b[0mmulti_potential\u001b[0m\u001b[0;34m(\u001b[0m\u001b[0matomic_info\u001b[0m\u001b[0;34m=\u001b[0m\u001b[0mF_coord\u001b[0m\u001b[0;34m)\u001b[0m\u001b[0;34m\u001b[0m\u001b[0;34m\u001b[0m\u001b[0m\n",
      "\u001b[0;32m/var/folders/8f/5w_pg3910f187sm8xvv_9mzm0000gn/T/ipykernel_2842/3446482997.py\u001b[0m in \u001b[0;36mmulti_potential\u001b[0;34m(atomic_info, gamma, alpha, n_points, physic_length)\u001b[0m\n\u001b[1;32m      8\u001b[0m     \u001b[0mV_pot\u001b[0m \u001b[0;34m=\u001b[0m \u001b[0mnp\u001b[0m\u001b[0;34m.\u001b[0m\u001b[0mzeros\u001b[0m\u001b[0;34m(\u001b[0m\u001b[0;34m(\u001b[0m\u001b[0mn_points\u001b[0m\u001b[0;34m,\u001b[0m \u001b[0mn_points\u001b[0m\u001b[0;34m,\u001b[0m \u001b[0mn_points\u001b[0m\u001b[0;34m)\u001b[0m\u001b[0;34m)\u001b[0m\u001b[0;34m\u001b[0m\u001b[0;34m\u001b[0m\u001b[0m\n\u001b[1;32m      9\u001b[0m     \u001b[0mgrid_space\u001b[0m \u001b[0;34m=\u001b[0m \u001b[0mphysic_length\u001b[0m \u001b[0;34m/\u001b[0m \u001b[0mn_points\u001b[0m\u001b[0;34m\u001b[0m\u001b[0;34m\u001b[0m\u001b[0m\n\u001b[0;32m---> 10\u001b[0;31m     \u001b[0mn_atoms\u001b[0m \u001b[0;34m=\u001b[0m \u001b[0matomic_info\u001b[0m\u001b[0;34m.\u001b[0m\u001b[0mshape\u001b[0m\u001b[0;34m[\u001b[0m\u001b[0;36m0\u001b[0m\u001b[0;34m]\u001b[0m\u001b[0;34m\u001b[0m\u001b[0;34m\u001b[0m\u001b[0m\n\u001b[0m\u001b[1;32m     11\u001b[0m     \u001b[0moffset\u001b[0m \u001b[0;34m=\u001b[0m \u001b[0mphysic_length\u001b[0m \u001b[0;34m/\u001b[0m \u001b[0;36m2\u001b[0m\u001b[0;34m\u001b[0m\u001b[0;34m\u001b[0m\u001b[0m\n\u001b[1;32m     12\u001b[0m     \u001b[0;32mfor\u001b[0m \u001b[0mi\u001b[0m \u001b[0;32min\u001b[0m \u001b[0mrange\u001b[0m\u001b[0;34m(\u001b[0m\u001b[0mn_points\u001b[0m\u001b[0;34m)\u001b[0m\u001b[0;34m:\u001b[0m\u001b[0;34m\u001b[0m\u001b[0;34m\u001b[0m\u001b[0m\n",
      "\u001b[0;31mAttributeError\u001b[0m: 'list' object has no attribute 'shape'"
     ]
    }
   ],
   "source": [
    "# multichannel_potential[0, ...].shape\n",
    "# multichannel_potential[1, ...].shape\n",
    "# multichannel_potential[2, ...].shape\n",
    "# multichannel_potential[3, ...].shape\n",
    "# multichannel_potential[4, ...].shape\n",
    "H_potential = multi_potential(atomic_info=H_coord)\n",
    "C_potential = multi_potential(atomic_info=C_coord)\n",
    "N_potential = multi_potential(atomic_info=N_coord)\n",
    "O_potential = multi_potential(atomic_info=O_coord)\n",
    "F_potential = multi_potential(atomic_info=F_coord)\n",
    "H_potential.mean()\n"
   ]
  },
  {
   "cell_type": "code",
   "execution_count": null,
   "metadata": {},
   "outputs": [],
   "source": []
  },
  {
   "cell_type": "code",
   "execution_count": null,
   "metadata": {},
   "outputs": [],
   "source": []
  }
 ],
 "metadata": {
  "interpreter": {
   "hash": "8cbc8d580d591dfc917f0e87ab0faf18e1041163db310c569e0411a126a3465f"
  },
  "kernelspec": {
   "display_name": "Python 3.8.12 ('mlluca')",
   "language": "python",
   "name": "python3"
  },
  "language_info": {
   "codemirror_mode": {
    "name": "ipython",
    "version": 3
   },
   "file_extension": ".py",
   "mimetype": "text/x-python",
   "name": "python",
   "nbconvert_exporter": "python",
   "pygments_lexer": "ipython3",
   "version": "3.8.12"
  },
  "orig_nbformat": 4
 },
 "nbformat": 4,
 "nbformat_minor": 2
}
